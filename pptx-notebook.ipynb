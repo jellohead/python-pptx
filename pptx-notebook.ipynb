{
 "cells": [
  {
   "attachments": {},
   "cell_type": "markdown",
   "metadata": {},
   "source": [
    "User single _underscores_ or single *asterisks* to get italics\n",
    "\n",
    "Use double __underscores__ or double **asterisks** to get bold\n",
    "\n",
    "# This is a header\n",
    "\n",
    "List items:\n",
    "* item 1\n",
    "* item 2\n",
    "- item 3\n",
    "- item 4\n",
    "+ item 5\n",
    "+ item 6"
   ]
  },
  {
   "attachments": {},
   "cell_type": "markdown",
   "metadata": {},
   "source": [
    "### Open powerpoint presentation"
   ]
  },
  {
   "cell_type": "code",
   "execution_count": 2,
   "metadata": {},
   "outputs": [],
   "source": [
    "import pandas as pd\n",
    "from pptx import Presentation\n",
    "\n",
    "# open powerpoint presentation\n",
    "prs = Presentation('../powerpoint_practice_files/LIW.pptx')\n",
    "\n",
    "# save powerpoint presentation to different file\n",
    "prs.save('../powerpoint_practice_files/LIW_practice_output.pptx')\n",
    "\n",
    "\n"
   ]
  },
  {
   "attachments": {},
   "cell_type": "markdown",
   "metadata": {},
   "source": [
    "### Import required module"
   ]
  },
  {
   "cell_type": "code",
   "execution_count": 3,
   "metadata": {},
   "outputs": [],
   "source": [
    "from pptx.chart.data import CategoryChartData"
   ]
  },
  {
   "cell_type": "code",
   "execution_count": 11,
   "metadata": {},
   "outputs": [
    {
     "name": "stdout",
     "output_type": "stream",
     "text": [
      "0 Rectangle 2\n",
      "1 Rectangle 3\n"
     ]
    }
   ],
   "source": [
    "slides = prs.slides\n",
    "title_slide_layout = prs.slide_layouts[0]\n",
    "slide = slides[0]\n",
    "for shape in slide.placeholders:\n",
    "    print('%d %s' % (shape.placeholder_format.idx, shape.name))\n",
    "title = slide.shapes.title\n",
    "subtitle1 = slide.shapes.placeholders[0]\n",
    "\n",
    "\n",
    "subtitle1.text = \"1\"\n",
    "\n",
    "\n",
    "\n",
    "\n",
    "\n",
    "\n",
    "\"'Adapting Charts'\"\n",
    "from pptx.chart.data import ChartData\n",
    "from pptx.enum.chart import XL_CHART_TYPE\n",
    "from pptx.util import Pt\n",
    "\n",
    "\"Adapting Chart 1\"\n",
    "\n",
    "\n",
    "slides1 = prs.slides\n",
    "\n"
   ]
  },
  {
   "cell_type": "code",
   "execution_count": 29,
   "metadata": {},
   "outputs": [
    {
     "name": "stdout",
     "output_type": "stream",
     "text": [
      "None\n",
      "None\n"
     ]
    }
   ],
   "source": [
    "list_shape_names = [shape.name for shape in slide.shapes]\n",
    "\n",
    "if list_shape_names not in list_shape_names:\n",
    "        shape_index = None\n",
    "        print(shape_index)\n",
    "else:\n",
    "        shape_index = list_shape_names.index(shape.name)\n",
    "        print(shape_index)\n",
    "\n",
    "print(shape_index)"
   ]
  },
  {
   "cell_type": "code",
   "execution_count": 9,
   "metadata": {},
   "outputs": [],
   "source": [
    "chart_data = CategoryChartData()\n",
    "chart_data.categories = {'Q1 & Q2 2022 (N=14)', 'Q3 2022 (N=35)', 'Q4 2022 (N=26)', 'Q1 2023 (N=16)'}\n",
    "chart_data.add_series = ('Series 4', (12.2, 13.1, 14.1))\n",
    "\n",
    "#chart_data\n"
   ]
  }
 ],
 "metadata": {
  "kernelspec": {
   "display_name": "Python 3",
   "language": "python",
   "name": "python3"
  },
  "language_info": {
   "codemirror_mode": {
    "name": "ipython",
    "version": 3
   },
   "file_extension": ".py",
   "mimetype": "text/x-python",
   "name": "python",
   "nbconvert_exporter": "python",
   "pygments_lexer": "ipython3",
   "version": "3.10.7"
  },
  "orig_nbformat": 4
 },
 "nbformat": 4,
 "nbformat_minor": 2
}
