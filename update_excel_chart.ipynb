{
 "cells": [
  {
   "cell_type": "markdown",
   "metadata": {},
   "source": [
    "#### Update and excel chart embedded in a pptx file"
   ]
  },
  {
   "cell_type": "markdown",
   "metadata": {},
   "source": [
    "#### ChatGPT starter code to update an excel chart"
   ]
  },
  {
   "cell_type": "code",
   "execution_count": null,
   "metadata": {},
   "outputs": [],
   "source": [
    "from pptx import Presentation\n",
    "from openpyxl import load_workbook\n",
    "\n",
    "def update_chart_data(presentation_path, excel_path, sheet_name, data_range):\n",
    "    # Load the PowerPoint presentation\n",
    "    presentation = Presentation(presentation_path)\n",
    "\n",
    "    # Load the Excel workbook\n",
    "    workbook = load_workbook(excel_path, data_only=True)\n",
    "    sheet = workbook[sheet_name]\n",
    "\n",
    "    # Loop through each slide\n",
    "    for slide in presentation.slides:\n",
    "        # Loop through each shape in the slide\n",
    "        for shape in slide.shapes:\n",
    "            if shape.has_chart:\n",
    "                chart = shape.chart\n",
    "                # Extract data from the Excel sheet\n",
    "                chart_data = [\n",
    "                    [cell.value for cell in row]\n",
    "                    for row in sheet[data_range]\n",
    "                ]\n",
    "\n",
    "                # Update the chart data in PowerPoint\n",
    "                chart.replace_data(chart_data)\n",
    "\n",
    "    # Save the updated PowerPoint presentation\n",
    "    presentation.save(\"path/to/updated_presentation.pptx\")\n",
    "\n",
    "if __name__ == \"__main__\":\n",
    "    # Specify the paths and details\n",
    "    presentation_path = \"path/to/your/presentation.pptx\"\n",
    "    excel_path = \"path/to/your/workbook.xlsx\"\n",
    "    sheet_name = \"Sheet1\"\n",
    "    data_range = \"A1:B10\"\n",
    "\n",
    "    # Update the chart data\n",
    "    update_chart_data(presentation_path, excel_path, sheet_name, data_range)\n"
   ]
  }
 ],
 "metadata": {
  "language_info": {
   "name": "python"
  }
 },
 "nbformat": 4,
 "nbformat_minor": 2
}
