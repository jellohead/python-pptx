{
 "cells": [
  {
   "cell_type": "code",
   "execution_count": 9,
   "metadata": {},
   "outputs": [
    {
     "name": "stdout",
     "output_type": "stream",
     "text": [
      "ID = 0, Shape name is           \"Title 1\"\n",
      "ID = 1, Shape name is           \"Text Placeholder 2\"\n",
      "ID = 2, Shape name is           \"Content Placeholder 3\"\n",
      "ID = 3, Shape name is           \"Text Placeholder 4\"\n",
      "ID = 4, Shape name is           \"Content Placeholder 5\"\n"
     ]
    }
   ],
   "source": [
    "from pptx import Presentation\n",
    "\n",
    "prs = Presentation('../powerpoint_practice_files/Mah_60Day.pptx')\n",
    "slide = prs.slides.add_slide(prs.slide_layouts[4])\n",
    "\n",
    "for s_ in slide.placeholders:\n",
    "    print('ID = {0:d}, Shape name is \\\n",
    "          \"{1:s}\"'.format(s_.placeholder_format.idx,s_.name))"
   ]
  },
  {
   "cell_type": "code",
   "execution_count": 21,
   "metadata": {},
   "outputs": [
    {
     "ename": "KeyError",
     "evalue": "'no placeholder on this slide with idx == 1'",
     "output_type": "error",
     "traceback": [
      "\u001b[0;31m---------------------------------------------------------------------------\u001b[0m",
      "\u001b[0;31mKeyError\u001b[0m                                  Traceback (most recent call last)",
      "Cell \u001b[0;32mIn[21], line 12\u001b[0m\n\u001b[1;32m     10\u001b[0m new_slide \u001b[38;5;241m=\u001b[39m ppt\u001b[38;5;241m.\u001b[39mslides\u001b[38;5;241m.\u001b[39madd_slide(layout_swot)\n\u001b[1;32m     11\u001b[0m new_slide\u001b[38;5;241m.\u001b[39mplaceholders[\u001b[38;5;241m0\u001b[39m]\u001b[38;5;241m.\u001b[39mtext \u001b[38;5;241m=\u001b[39m \u001b[38;5;28mstr\u001b[39m(ws[\u001b[38;5;124m'\u001b[39m\u001b[38;5;124mB2\u001b[39m\u001b[38;5;124m'\u001b[39m]\u001b[38;5;241m.\u001b[39mvalue)\n\u001b[0;32m---> 12\u001b[0m \u001b[43mnew_slide\u001b[49m\u001b[38;5;241;43m.\u001b[39;49m\u001b[43mplaceholders\u001b[49m\u001b[43m[\u001b[49m\u001b[38;5;241;43m1\u001b[39;49m\u001b[43m]\u001b[49m\u001b[38;5;241m.\u001b[39mtext \u001b[38;5;241m=\u001b[39m \u001b[38;5;28mstr\u001b[39m(ws[\u001b[38;5;124m'\u001b[39m\u001b[38;5;124mB3\u001b[39m\u001b[38;5;124m'\u001b[39m]\u001b[38;5;241m.\u001b[39mvalue)\n\u001b[1;32m     13\u001b[0m \u001b[38;5;66;03m#new_slide.placeholders[3].text = str(ws['B4'].value)\u001b[39;00m\n\u001b[1;32m     14\u001b[0m \u001b[38;5;66;03m#new_slide.placeholders[4].text = str(ws['B5'].value)\u001b[39;00m\n\u001b[1;32m     16\u001b[0m ppt\u001b[38;5;241m.\u001b[39msave(\u001b[38;5;124m\"\u001b[39m\u001b[38;5;124msample00.pptx\u001b[39m\u001b[38;5;124m\"\u001b[39m)\n",
      "File \u001b[0;32m~/Library/Python/3.9/lib/python/site-packages/pptx/shapes/shapetree.py:785\u001b[0m, in \u001b[0;36mSlidePlaceholders.__getitem__\u001b[0;34m(self, idx)\u001b[0m\n\u001b[1;32m    783\u001b[0m     \u001b[38;5;28;01mif\u001b[39;00m e\u001b[38;5;241m.\u001b[39mph_idx \u001b[38;5;241m==\u001b[39m idx:\n\u001b[1;32m    784\u001b[0m         \u001b[38;5;28;01mreturn\u001b[39;00m SlideShapeFactory(e, \u001b[38;5;28mself\u001b[39m)\n\u001b[0;32m--> 785\u001b[0m \u001b[38;5;28;01mraise\u001b[39;00m \u001b[38;5;167;01mKeyError\u001b[39;00m(\u001b[38;5;124m\"\u001b[39m\u001b[38;5;124mno placeholder on this slide with idx == \u001b[39m\u001b[38;5;132;01m%d\u001b[39;00m\u001b[38;5;124m\"\u001b[39m \u001b[38;5;241m%\u001b[39m idx)\n",
      "\u001b[0;31mKeyError\u001b[0m: 'no placeholder on this slide with idx == 1'"
     ]
    }
   ],
   "source": [
    "from pptx import Presentation\n",
    "import openpyxl\n",
    "\n",
    "wb = openpyxl.load_workbook(\"SWOT_sample1.xlsx\")\n",
    "ws = wb['Sheet1']\n",
    "\n",
    "ppt = Presentation('../powerpoint_practice_files/template1.pptx')\n",
    "layout_swot = ppt.slide_layouts[0]\n",
    "\n",
    "new_slide = ppt.slides.add_slide(layout_swot)\n",
    "new_slide.placeholders[0].text = str(ws['B2'].value)\n",
    "new_slide.placeholders[1].text = str(ws['B3'].value)\n",
    "#new_slide.placeholders[3].text = str(ws['B4'].value)\n",
    "#new_slide.placeholders[4].text = str(ws['B5'].value)\n",
    "\n",
    "ppt.save(\"sample00.pptx\")"
   ]
  },
  {
   "cell_type": "code",
   "execution_count": 17,
   "metadata": {},
   "outputs": [
    {
     "name": "stdout",
     "output_type": "stream",
     "text": [
      "ID = 0, Shape name is           \"Title 1\"\n",
      "ID = 1, Shape name is           \"Subtitle 2\"\n",
      "ID = 17, Shape name is           \"Chart Placeholder 3\"\n",
      "ID = 18, Shape name is           \"Text Placeholder 4\"\n"
     ]
    }
   ],
   "source": [
    "from pptx import Presentation\n",
    "\n",
    "prs = Presentation('../powerpoint_practice_files/template1.pptx')\n",
    "slide = prs.slides.add_slide(prs.slide_layouts[1])\n",
    "\n",
    "for s_ in slide.placeholders:\n",
    "    print('ID = {0:d}, Shape name is \\\n",
    "          \"{1:s}\"'.format(s_.placeholder_format.idx,s_.name))"
   ]
  },
  {
   "cell_type": "code",
   "execution_count": 21,
   "metadata": {},
   "outputs": [
    {
     "ename": "ValueError",
     "evalue": "0 is not in slide collection",
     "output_type": "error",
     "traceback": [
      "\u001b[0;31m---------------------------------------------------------------------------\u001b[0m",
      "\u001b[0;31mValueError\u001b[0m                                Traceback (most recent call last)",
      "\u001b[1;32m/Users/patescalona/Projects/Coding/python/python-pptx/Excel-to-powerpoint.ipynb Cell 4\u001b[0m in \u001b[0;36m1\n\u001b[0;32m----> <a href='vscode-notebook-cell:/Users/patescalona/Projects/Coding/python/python-pptx/Excel-to-powerpoint.ipynb#W3sZmlsZQ%3D%3D?line=0'>1</a>\u001b[0m numberOfSlides \u001b[39m=\u001b[39m prs\u001b[39m.\u001b[39mslides\u001b[39m.\u001b[39mindex(\u001b[39m0\u001b[39m)\n\u001b[1;32m      <a href='vscode-notebook-cell:/Users/patescalona/Projects/Coding/python/python-pptx/Excel-to-powerpoint.ipynb#W3sZmlsZQ%3D%3D?line=1'>2</a>\u001b[0m \u001b[39mprint\u001b[39m(numberOfSlides)\n",
      "File \u001b[0;32m/Library/Frameworks/Python.framework/Versions/3.10/lib/python3.10/site-packages/pptx/slide.py:304\u001b[0m, in \u001b[0;36mSlides.index\u001b[0;34m(self, slide)\u001b[0m\n\u001b[1;32m    302\u001b[0m     \u001b[39mif\u001b[39;00m this_slide \u001b[39m==\u001b[39m slide:\n\u001b[1;32m    303\u001b[0m         \u001b[39mreturn\u001b[39;00m idx\n\u001b[0;32m--> 304\u001b[0m \u001b[39mraise\u001b[39;00m \u001b[39mValueError\u001b[39;00m(\u001b[39m\"\u001b[39m\u001b[39m%s\u001b[39;00m\u001b[39m is not in slide collection\u001b[39m\u001b[39m\"\u001b[39m \u001b[39m%\u001b[39m slide)\n",
      "\u001b[0;31mValueError\u001b[0m: 0 is not in slide collection"
     ]
    }
   ],
   "source": [
    "numberOfSlides = prs.slid\n",
    "print(numberOfSlides)"
   ]
  },
  {
   "cell_type": "markdown",
   "metadata": {},
   "source": [
    "### Update a slide using data from an excel spreadsheet (ChatGPT used for this)"
   ]
  },
  {
   "cell_type": "code",
   "execution_count": 6,
   "metadata": {},
   "outputs": [],
   "source": [
    "from pptx import Presentation\n",
    "from openpyxl import load_workbook\n",
    "\n",
    "\n",
    "# Function to update PowerPoint slide with data from Excel\n",
    "def update_powerpoint_slide(pptx_path, excel_path, slide_index, cell_address):\n",
    "    # Load PowerPoint presentation\n",
    "    presentation = Presentation(pptx_path)\n",
    "\n",
    "    # Load Excel workbook\n",
    "    workbook = load_workbook(excel_path, data_only=True)\n",
    "    sheet = workbook.active\n",
    "\n",
    "    # Access the desired slide\n",
    "    slide = presentation.slides[slide_index]\n",
    "\n",
    "    # Access the TextBox in the slide\n",
    "    text_box = slide.shapes[2].text_frame\n",
    "\n",
    "    # Update the text in the TextBox with data from Excel\n",
    "    text_box.text = str(sheet[cell_address].value)\n",
    "\n",
    "    # Save the updated PowerPoint presentation\n",
    "    presentation.save(\"updated_presentation.pptx\")\n",
    "\n",
    "# Example usage\n",
    "pptx_file = \"/Users/patescalona/Projects/Coding/SPSS-Python/powerpoint_practice_files/Mah_Brand_Awareness.pptx\"\n",
    "\n",
    "excel_file = \"/Users/patescalona/Projects/Coding/SPSS-Python/python-pptx/SWOT_sample1.xlsx\"\n",
    "slide_to_update = 0 # Index of the slide to update\n",
    "excel_sheet = \"Sheet2\"\n",
    "excel_cell = \"B13\"    # Address of the cell in Excel\n",
    "\n",
    "update_powerpoint_slide(pptx_file, excel_file, slide_to_update, excel_cell)\n"
   ]
  },
  {
   "cell_type": "markdown",
   "metadata": {},
   "source": [
    "#### Tutorial from python-pptx docs"
   ]
  },
  {
   "cell_type": "code",
   "execution_count": 1,
   "metadata": {},
   "outputs": [],
   "source": [
    "from pptx import Presentation\n",
    "from pptx.chart.data import CategoryChartData\n",
    "from pptx.enum.chart import XL_CHART_TYPE\n",
    "from pptx.util import Inches\n",
    "\n",
    "# create presentation with 1 slide ------\n",
    "prs = Presentation()\n",
    "slide = prs.slides.add_slide(prs.slide_layouts[5])\n",
    "\n",
    "# define chart data ---------------------\n",
    "chart_data = CategoryChartData()\n",
    "chart_data.categories = ['East', 'West', 'Midwest']\n",
    "chart_data.add_series('Series 1', (19.2, 21.4, 16.7))\n",
    "\n",
    "# add chart to slide --------------------\n",
    "x, y, cx, cy = Inches(2), Inches(2), Inches(6), Inches(4.5)\n",
    "slide.shapes.add_chart(\n",
    "    XL_CHART_TYPE.COLUMN_CLUSTERED, x, y, cx, cy, chart_data\n",
    ")\n",
    "\n",
    "prs.save('chart-01.pptx')"
   ]
  },
  {
   "cell_type": "markdown",
   "metadata": {},
   "source": [
    "#### Extract the data from a powerpoint slide"
   ]
  },
  {
   "cell_type": "code",
   "execution_count": 6,
   "metadata": {},
   "outputs": [
    {
     "data": {
      "text/plain": [
       "51"
      ]
     },
     "execution_count": 6,
     "metadata": {},
     "output_type": "execute_result"
    }
   ],
   "source": [
    "for shape in shapes:\n",
    "        if shape.shape_id == shape_id:\n",
    "            return shape\n",
    "    return None"
   ]
  },
  {
   "cell_type": "code",
   "execution_count": 7,
   "metadata": {},
   "outputs": [],
   "source": [
    "plot = chart.plots[0]"
   ]
  },
  {
   "cell_type": "code",
   "execution_count": 8,
   "metadata": {},
   "outputs": [
    {
     "data": {
      "text/plain": [
       "<pptx.chart.plot.BarPlot at 0x115e528f0>"
      ]
     },
     "execution_count": 8,
     "metadata": {},
     "output_type": "execute_result"
    }
   ],
   "source": [
    "plot"
   ]
  },
  {
   "cell_type": "code",
   "execution_count": 9,
   "metadata": {},
   "outputs": [
    {
     "name": "stdout",
     "output_type": "stream",
     "text": [
      "['East', 'West', 'Midwest']\n"
     ]
    }
   ],
   "source": [
    "category_labels = [c.label for c in plot.categories]\n",
    "print(category_labels)"
   ]
  },
  {
   "cell_type": "code",
   "execution_count": 10,
   "metadata": {},
   "outputs": [
    {
     "name": "stdout",
     "output_type": "stream",
     "text": [
      "<pptx.chart.series.BarSeries object at 0x115e536a0>\n"
     ]
    }
   ],
   "source": [
    "series = plot.series[0]\n",
    "print(series)"
   ]
  },
  {
   "cell_type": "code",
   "execution_count": 11,
   "metadata": {},
   "outputs": [
    {
     "data": {
      "text/plain": [
       "'Series 1'"
      ]
     },
     "execution_count": 11,
     "metadata": {},
     "output_type": "execute_result"
    }
   ],
   "source": [
    "series.name"
   ]
  },
  {
   "cell_type": "code",
   "execution_count": 12,
   "metadata": {},
   "outputs": [
    {
     "data": {
      "text/plain": [
       "(19.2, 21.4, 16.7)"
      ]
     },
     "execution_count": 12,
     "metadata": {},
     "output_type": "execute_result"
    }
   ],
   "source": [
    "series.values"
   ]
  },
  {
   "cell_type": "code",
   "execution_count": 16,
   "metadata": {},
   "outputs": [
    {
     "name": "stdout",
     "output_type": "stream",
     "text": [
      "ID = 0, Shape name is           \"Title 1\"\n",
      "ID = 1, Shape name is           \"Text Placeholder 2\"\n",
      "ID = 2, Shape name is           \"Content Placeholder 3\"\n",
      "ID = 3, Shape name is           \"Text Placeholder 4\"\n",
      "ID = 4, Shape name is           \"Content Placeholder 5\"\n"
     ]
    }
   ],
   "source": [
    "from pptx import Presentation\n",
    "\n",
    "prs = Presentation('chart_grouped.pptx')\n",
    "slide = prs.slides.add_slide(prs.slide_layouts[4])\n",
    "\n",
    "for s_ in slide.placeholders:\n",
    "    print('ID = {0:d}, Shape name is \\\n",
    "          \"{1:s}\"'.format(s_.placeholder_format.idx,s_.name))"
   ]
  },
  {
   "cell_type": "code",
   "execution_count": 10,
   "metadata": {},
   "outputs": [
    {
     "name": "stdout",
     "output_type": "stream",
     "text": [
      "ID = 0, Shape name is           \"Title 1\"\n",
      "ID = 1, Shape name is           \"Content Placeholder 2\"\n"
     ]
    }
   ],
   "source": [
    "from pptx import Presentation\n",
    "\n",
    "prs = Presentation('chart-01.pptx')\n",
    "slide = prs.slides.add_slide(prs.slide_layouts[1])\n",
    "\n",
    "for s_ in slide.placeholders:\n",
    "    print('ID = {0:d}, Shape name is \\\n",
    "          \"{1:s}\"'.format(s_.placeholder_format.idx,s_.name))"
   ]
  },
  {
   "cell_type": "markdown",
   "metadata": {},
   "source": [
    "# Start new round of code"
   ]
  },
  {
   "cell_type": "markdown",
   "metadata": {},
   "source": [
    "#### Try extracting series data from an existing slide"
   ]
  },
  {
   "cell_type": "code",
   "execution_count": 3,
   "metadata": {},
   "outputs": [],
   "source": [
    "from pptx import Presentation\n",
    "from pptx.chart.data import CategoryChartData\n",
    "from pptx.enum.chart import XL_CHART_TYPE\n",
    "from pptx.util import Inches\n",
    "\n",
    "# Load the PowerPoint presentation\n",
    "pptx_path = \"chart-01.pptx\"\n",
    "prs = Presentation(pptx_path)\n",
    "\n",
    "# Specify the slide index you want to analyze (adjust index as needed)\n",
    "slide_index = 0\n",
    "slide = prs.slides[slide_index]"
   ]
  },
  {
   "cell_type": "markdown",
   "metadata": {},
   "source": [
    "##### len() works on prs.slides\n",
    "##### This slide contains 2 objects: a text box and a chart"
   ]
  },
  {
   "cell_type": "code",
   "execution_count": 13,
   "metadata": {},
   "outputs": [
    {
     "data": {
      "text/plain": [
       "2"
      ]
     },
     "execution_count": 13,
     "metadata": {},
     "output_type": "execute_result"
    }
   ],
   "source": [
    "len(prs.slides)"
   ]
  },
  {
   "cell_type": "markdown",
   "metadata": {},
   "source": [
    "#### Take a looks at the placeholders on a slide to figure out which one you want"
   ]
  },
  {
   "cell_type": "code",
   "execution_count": 16,
   "metadata": {},
   "outputs": [
    {
     "name": "stdout",
     "output_type": "stream",
     "text": [
      "0 Title 1\n",
      "1 Content Placeholder 2\n"
     ]
    }
   ],
   "source": [
    "for shape in slide.placeholders:\n",
    "    print('%d %s' % (shape.placeholder_format.idx, shape.name))"
   ]
  },
  {
   "cell_type": "code",
   "execution_count": 17,
   "metadata": {},
   "outputs": [
    {
     "data": {
      "text/plain": [
       "<pptx.shapes.placeholder.SlidePlaceholder at 0x10f029b20>"
      ]
     },
     "execution_count": 17,
     "metadata": {},
     "output_type": "execute_result"
    }
   ],
   "source": [
    "slide.placeholders[1]"
   ]
  },
  {
   "cell_type": "code",
   "execution_count": 18,
   "metadata": {},
   "outputs": [
    {
     "data": {
      "text/plain": [
       "'Content Placeholder 2'"
      ]
     },
     "execution_count": 18,
     "metadata": {},
     "output_type": "execute_result"
    }
   ],
   "source": [
    "slide.placeholders[1].name"
   ]
  },
  {
   "cell_type": "markdown",
   "metadata": {},
   "source": [
    "#### List all the shapes on the powerpoint slide and any available data for those shapes"
   ]
  },
  {
   "cell_type": "code",
   "execution_count": 2,
   "metadata": {},
   "outputs": [
    {
     "name": "stdout",
     "output_type": "stream",
     "text": [
      "Shape 1:\n",
      "  Type: PLACEHOLDER (14)\n",
      "  Text: \n",
      "  Position: Left=457200, Top=274638, Width=8229600, Height=1143000\n",
      "------------------------------\n",
      "Shape 2:\n",
      "  Type: CHART (3)\n",
      "  Position: Left=1828800, Top=1828800, Width=5486400, Height=4114800\n",
      "------------------------------\n"
     ]
    }
   ],
   "source": [
    "from pptx import Presentation\n",
    "\n",
    "# Load the PowerPoint presentation\n",
    "pptx_path = \"chart-01.pptx\"\n",
    "presentation = Presentation(pptx_path)\n",
    "\n",
    "# Specify the slide index you want to analyze (adjust index as needed)\n",
    "slide_index = 0\n",
    "slide = presentation.slides[slide_index]\n",
    "\n",
    "# Iterate through all shapes on the slide and print details\n",
    "for i, shape in enumerate(slide.shapes):\n",
    "    print(f\"Shape {i + 1}:\")\n",
    "    print(f\"  Type: {shape.shape_type}\")\n",
    "    \n",
    "    if shape.has_text_frame:\n",
    "        print(f\"  Text: {shape.text}\")\n",
    "    \n",
    "    print(f\"  Position: Left={shape.left}, Top={shape.top}, Width={shape.width}, Height={shape.height}\")\n",
    "    print(\"-\" * 30)\n"
   ]
  },
  {
   "cell_type": "code",
   "execution_count": null,
   "metadata": {},
   "outputs": [],
   "source": []
  },
  {
   "cell_type": "code",
   "execution_count": 10,
   "metadata": {},
   "outputs": [
    {
     "ename": "NameError",
     "evalue": "name 'chart' is not defined",
     "output_type": "error",
     "traceback": [
      "\u001b[0;31m---------------------------------------------------------------------------\u001b[0m",
      "\u001b[0;31mNameError\u001b[0m                                 Traceback (most recent call last)",
      "Cell \u001b[0;32mIn[10], line 1\u001b[0m\n\u001b[0;32m----> 1\u001b[0m \u001b[43mchart\u001b[49m\u001b[38;5;241m.\u001b[39mchart_type\n",
      "\u001b[0;31mNameError\u001b[0m: name 'chart' is not defined"
     ]
    }
   ],
   "source": [
    "chart.chart_type"
   ]
  },
  {
   "cell_type": "code",
   "execution_count": 9,
   "metadata": {},
   "outputs": [
    {
     "ename": "NameError",
     "evalue": "name 'plot' is not defined",
     "output_type": "error",
     "traceback": [
      "\u001b[0;31m---------------------------------------------------------------------------\u001b[0m",
      "\u001b[0;31mNameError\u001b[0m                                 Traceback (most recent call last)",
      "Cell \u001b[0;32mIn[9], line 1\u001b[0m\n\u001b[0;32m----> 1\u001b[0m \u001b[43mplot\u001b[49m\n",
      "\u001b[0;31mNameError\u001b[0m: name 'plot' is not defined"
     ]
    }
   ],
   "source": [
    "plot"
   ]
  },
  {
   "cell_type": "code",
   "execution_count": 8,
   "metadata": {},
   "outputs": [
    {
     "ename": "NameError",
     "evalue": "name 'series' is not defined",
     "output_type": "error",
     "traceback": [
      "\u001b[0;31m---------------------------------------------------------------------------\u001b[0m",
      "\u001b[0;31mNameError\u001b[0m                                 Traceback (most recent call last)",
      "Cell \u001b[0;32mIn[8], line 1\u001b[0m\n\u001b[0;32m----> 1\u001b[0m \u001b[43mseries\u001b[49m\u001b[38;5;241m.\u001b[39mvalues\n",
      "\u001b[0;31mNameError\u001b[0m: name 'series' is not defined"
     ]
    }
   ],
   "source": [
    "series.values"
   ]
  }
 ],
 "metadata": {
  "kernelspec": {
   "display_name": "Python 3",
   "language": "python",
   "name": "python3"
  },
  "language_info": {
   "codemirror_mode": {
    "name": "ipython",
    "version": 3
   },
   "file_extension": ".py",
   "mimetype": "text/x-python",
   "name": "python",
   "nbconvert_exporter": "python",
   "pygments_lexer": "ipython3",
   "version": "3.10.6"
  },
  "orig_nbformat": 4,
  "vscode": {
   "interpreter": {
    "hash": "aee8b7b246df8f9039afb4144a1f6fd8d2ca17a180786b69acc140d282b71a49"
   }
  }
 },
 "nbformat": 4,
 "nbformat_minor": 2
}
