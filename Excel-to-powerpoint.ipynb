{
 "cells": [
  {
   "cell_type": "code",
   "execution_count": 10,
   "metadata": {},
   "outputs": [
    {
     "name": "stdout",
     "output_type": "stream",
     "text": [
      "ID = 0, Shape name is           \"Title 1\"\n",
      "ID = 1, Shape name is           \"Content Placeholder 2\"\n"
     ]
    }
   ],
   "source": [
    "from pptx import Presentation\n",
    "\n",
    "prs = Presentation('../powerpoint_practice_files/Mah_60Day.pptx')\n",
    "slide = prs.slides.add_slide(prs.slide_layouts[1])\n",
    "\n",
    "for s_ in slide.placeholders:\n",
    "    print('ID = {0:d}, Shape name is \\\n",
    "          \"{1:s}\"'.format(s_.placeholder_format.idx,s_.name))"
   ]
  },
  {
   "cell_type": "code",
   "execution_count": 7,
   "metadata": {},
   "outputs": [],
   "source": [
    "from pptx import Presentation\n",
    "import openpyxl\n",
    "\n",
    "wb = openpyxl.load_workbook(\"SWOT_sample1.xlsx\")\n",
    "ws = wb['Sheet1']\n",
    "\n",
    "ppt = Presentation('template1.pptx')\n",
    "layout_swot = ppt.slide_layouts[5] # I use layout 'ID=5'\n",
    "\n",
    "new_slide = ppt.slides.add_slide(layout_swot)\n",
    "new_slide.placeholders[1].text = str(ws['B2'].value)\n",
    "new_slide.placeholders[2].text = str(ws['B3'].value)\n",
    "new_slide.placeholders[3].text = str(ws['B4'].value)\n",
    "new_slide.placeholders[4].text = str(ws['B5'].value)\n",
    "\n",
    "ppt.save(\"sample00.pptx\")"
   ]
  },
  {
   "cell_type": "code",
   "execution_count": 20,
   "metadata": {},
   "outputs": [
    {
     "name": "stdout",
     "output_type": "stream",
     "text": [
      "ID = 0, Shape name is           \"Title 1\"\n",
      "ID = 13, Shape name is           \"Picture Placeholder 2\"\n",
      "ID = 14, Shape name is           \"Picture Placeholder 3\"\n",
      "ID = 15, Shape name is           \"Picture Placeholder 4\"\n"
     ]
    }
   ],
   "source": [
    "from pptx import Presentation\n",
    "\n",
    "prs = Presentation('template1.pptx')\n",
    "slide = prs.slides.add_slide(prs.slide_layouts[1])\n",
    "\n",
    "for s_ in slide.placeholders:\n",
    "    print('ID = {0:d}, Shape name is \\\n",
    "          \"{1:s}\"'.format(s_.placeholder_format.idx,s_.name))"
   ]
  },
  {
   "cell_type": "code",
   "execution_count": 35,
   "metadata": {},
   "outputs": [
    {
     "name": "stdout",
     "output_type": "stream",
     "text": [
      "None\n"
     ]
    }
   ],
   "source": [
    "numberOfSlides = prs.slides.get(1)\n",
    "print(numberOfSlides)"
   ]
  },
  {
   "cell_type": "code",
   "execution_count": null,
   "metadata": {},
   "outputs": [],
   "source": []
  }
 ],
 "metadata": {
  "kernelspec": {
   "display_name": "Python 3",
   "language": "python",
   "name": "python3"
  },
  "language_info": {
   "codemirror_mode": {
    "name": "ipython",
    "version": 3
   },
   "file_extension": ".py",
   "mimetype": "text/x-python",
   "name": "python",
   "nbconvert_exporter": "python",
   "pygments_lexer": "ipython3",
   "version": "3.10.7"
  },
  "orig_nbformat": 4
 },
 "nbformat": 4,
 "nbformat_minor": 2
}
