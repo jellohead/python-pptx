{
 "cells": [
  {
   "cell_type": "markdown",
   "metadata": {},
   "source": [
    "#### Use python-pptx to update charts"
   ]
  },
  {
   "cell_type": "code",
   "execution_count": 1,
   "metadata": {},
   "outputs": [],
   "source": [
    "import pptx\n",
    "\n",
    "pptx_path = 'chart-01.pptx'\n",
    "prs = pptx.Presentation(pptx_path)\n",
    "\n",
    "slide_index = 0\n",
    "slide = prs.slides[slide_index]\n"
   ]
  },
  {
   "cell_type": "code",
   "execution_count": 2,
   "metadata": {},
   "outputs": [],
   "source": [
    "chart1 = slide.shapes[1].chart\n"
   ]
  },
  {
   "cell_type": "code",
   "execution_count": 98,
   "metadata": {},
   "outputs": [],
   "source": [
    "plot = chart1.plots[0]"
   ]
  },
  {
   "cell_type": "code",
   "execution_count": 99,
   "metadata": {},
   "outputs": [
    {
     "data": {
      "text/plain": [
       "1"
      ]
     },
     "execution_count": 99,
     "metadata": {},
     "output_type": "execute_result"
    }
   ],
   "source": [
    "len(plot.series)"
   ]
  },
  {
   "cell_type": "code",
   "execution_count": 104,
   "metadata": {},
   "outputs": [
    {
     "data": {
      "text/plain": [
       "(20.2, 22.4, 17.7)"
      ]
     },
     "execution_count": 104,
     "metadata": {},
     "output_type": "execute_result"
    }
   ],
   "source": [
    "series = iter(plot.series)\n",
    "next(series).values"
   ]
  },
  {
   "cell_type": "code",
   "execution_count": 4,
   "metadata": {},
   "outputs": [
    {
     "data": {
      "text/plain": [
       "(19.2, 21.4, 16.7)"
      ]
     },
     "execution_count": 4,
     "metadata": {},
     "output_type": "execute_result"
    }
   ],
   "source": [
    "plot.series[0].values"
   ]
  },
  {
   "cell_type": "code",
   "execution_count": 43,
   "metadata": {},
   "outputs": [
    {
     "data": {
      "text/plain": [
       "2"
      ]
     },
     "execution_count": 43,
     "metadata": {},
     "output_type": "execute_result"
    }
   ],
   "source": [
    "plot.chart.chart_style"
   ]
  },
  {
   "cell_type": "code",
   "execution_count": 106,
   "metadata": {},
   "outputs": [
    {
     "data": {
      "text/plain": [
       "<pptx.chart.chart.ChartTitle at 0x12aa8b550>"
      ]
     },
     "execution_count": 106,
     "metadata": {},
     "output_type": "execute_result"
    }
   ],
   "source": [
    "plot.chart.chart_title"
   ]
  },
  {
   "cell_type": "code",
   "execution_count": 109,
   "metadata": {},
   "outputs": [
    {
     "data": {
      "text/plain": [
       "'Brand New Chart Title'"
      ]
     },
     "execution_count": 109,
     "metadata": {},
     "output_type": "execute_result"
    }
   ],
   "source": [
    "plot.chart.chart_title.text_frame.text\n",
    "# print('%s' % my_chart_title.text_frame.text)"
   ]
  },
  {
   "cell_type": "code",
   "execution_count": 110,
   "metadata": {},
   "outputs": [
    {
     "data": {
      "text/plain": [
       "'Brand New Chart Title'"
      ]
     },
     "execution_count": 110,
     "metadata": {},
     "output_type": "execute_result"
    }
   ],
   "source": [
    "plot.chart.chart_title.text_frame.text"
   ]
  },
  {
   "cell_type": "code",
   "execution_count": 47,
   "metadata": {},
   "outputs": [
    {
     "data": {
      "text/plain": [
       "51"
      ]
     },
     "execution_count": 47,
     "metadata": {},
     "output_type": "execute_result"
    }
   ],
   "source": [
    "chart1.chart_type"
   ]
  },
  {
   "cell_type": "code",
   "execution_count": 32,
   "metadata": {},
   "outputs": [
    {
     "data": {
      "text/plain": [
       "pptx.enum.base.EnumValue"
      ]
     },
     "execution_count": 32,
     "metadata": {},
     "output_type": "execute_result"
    }
   ],
   "source": [
    "type(chart1.chart_type)"
   ]
  },
  {
   "cell_type": "code",
   "execution_count": 46,
   "metadata": {},
   "outputs": [
    {
     "data": {
      "text/plain": [
       "pptx.enum.base.EnumValue"
      ]
     },
     "execution_count": 46,
     "metadata": {},
     "output_type": "execute_result"
    }
   ],
   "source": [
    "type(plot.chart.chart_type)"
   ]
  },
  {
   "cell_type": "code",
   "execution_count": 66,
   "metadata": {},
   "outputs": [
    {
     "data": {
      "text/plain": [
       "pptx.chart.plot.BarPlot"
      ]
     },
     "execution_count": 66,
     "metadata": {},
     "output_type": "execute_result"
    }
   ],
   "source": [
    "type(plot)"
   ]
  },
  {
   "cell_type": "code",
   "execution_count": 38,
   "metadata": {},
   "outputs": [
    {
     "data": {
      "text/plain": [
       "['East', 'West', 'Midwest']"
      ]
     },
     "execution_count": 38,
     "metadata": {},
     "output_type": "execute_result"
    }
   ],
   "source": [
    "category_labels = [c.label for c in plot.categories]\n",
    "category_labels"
   ]
  },
  {
   "cell_type": "code",
   "execution_count": 71,
   "metadata": {},
   "outputs": [],
   "source": [
    "plot.chart.chart_title.text_frame.text = 'changed the title'"
   ]
  },
  {
   "cell_type": "code",
   "execution_count": 72,
   "metadata": {},
   "outputs": [],
   "source": [
    "prs.save('chart-03.pptx')"
   ]
  },
  {
   "cell_type": "code",
   "execution_count": 31,
   "metadata": {},
   "outputs": [
    {
     "name": "stdout",
     "output_type": "stream",
     "text": [
      "ID = 0, Shape name is           \"Title 1\"\n"
     ]
    }
   ],
   "source": [
    "for s_ in slide.placeholders:\n",
    "    print('ID = {0:d}, Shape name is \\\n",
    "          \"{1:s}\"'.format(s_.placeholder_format.idx,s_.name))"
   ]
  },
  {
   "cell_type": "code",
   "execution_count": 78,
   "metadata": {},
   "outputs": [],
   "source": [
    "from pptx import Presentation\n",
    "\n",
    "pptx_path = 'chart-01.pptx'\n",
    "prs = Presentation(pptx_path)\n",
    "slide = prs.slides[0]\n",
    "chart = slide.shapes[1].chart\n",
    "chart.chart_title.text_frame.text='even newer'\n",
    "prs.save('chart-03.pptx')"
   ]
  },
  {
   "cell_type": "code",
   "execution_count": 79,
   "metadata": {},
   "outputs": [],
   "source": [
    "chart.chart_title.text_frame.text='saved another one'\n",
    "prs.save('chart-03.pptx')"
   ]
  },
  {
   "cell_type": "code",
   "execution_count": null,
   "metadata": {},
   "outputs": [],
   "source": [
    "slide.shapes[1].chart"
   ]
  },
  {
   "cell_type": "markdown",
   "metadata": {},
   "source": [
    "#### This is how you change the chart title text"
   ]
  },
  {
   "cell_type": "code",
   "execution_count": 2,
   "metadata": {},
   "outputs": [],
   "source": [
    "from pptx import Presentation\n",
    "\n",
    "pptx_path = 'chart-01.pptx'\n",
    "prs = Presentation(pptx_path)\n",
    "slide = prs.slides[0]\n",
    "chart1 = slide.shapes[1].chart\n",
    "\n",
    "chart1.chart_title.text_frame.text='Brand New Chart Title'\n",
    "prs.save('chart-03.pptx')"
   ]
  },
  {
   "cell_type": "code",
   "execution_count": 84,
   "metadata": {},
   "outputs": [
    {
     "data": {
      "text/plain": [
       "(19.2, 21.4, 16.7)"
      ]
     },
     "execution_count": 84,
     "metadata": {},
     "output_type": "execute_result"
    }
   ],
   "source": [
    "chart1.series[0].values"
   ]
  },
  {
   "cell_type": "code",
   "execution_count": 92,
   "metadata": {},
   "outputs": [
    {
     "data": {
      "text/plain": [
       "'Brand New Chart Title'"
      ]
     },
     "execution_count": 92,
     "metadata": {},
     "output_type": "execute_result"
    }
   ],
   "source": [
    "chart1.chart_title.text_frame.text"
   ]
  },
  {
   "cell_type": "markdown",
   "metadata": {},
   "source": [
    "#### This is how you update the data in a chart"
   ]
  },
  {
   "cell_type": "code",
   "execution_count": 96,
   "metadata": {},
   "outputs": [],
   "source": [
    "from pptx.chart.data import CategoryChartData\n",
    "new_data = CategoryChartData()\n",
    "new_data.categories = ['Up', 'Down', 'Left']\n",
    "new_data.add_series('Series 1', (20.2, 22.4, 17.7))\n",
    "chart1.replace_data(new_data)\n",
    "prs.save('chart-04.pptx')"
   ]
  },
  {
   "cell_type": "markdown",
   "metadata": {},
   "source": [
    "### Trying to extract all the chart data"
   ]
  },
  {
   "cell_type": "code",
   "execution_count": 44,
   "metadata": {},
   "outputs": [],
   "source": [
    "# not working yet\n",
    "import io\n",
    "import openpyxl\n",
    "\n",
    "wb = openpyxl.Workbook()\n",
    "\n",
    "\n",
    "blob_output = io.BytesIO(chart1.part.chart_workbook.xlsx_part.blob)\n",
    "\n",
    "wb.save(blob_output)\n"
   ]
  },
  {
   "cell_type": "markdown",
   "metadata": {},
   "source": [
    "##### get chart type"
   ]
  },
  {
   "cell_type": "code",
   "execution_count": 114,
   "metadata": {},
   "outputs": [
    {
     "data": {
      "text/plain": [
       "51"
      ]
     },
     "execution_count": 114,
     "metadata": {},
     "output_type": "execute_result"
    }
   ],
   "source": [
    "# from pptx.enum.chart import XL_CHART_TYPE\n",
    "chart1.chart_type"
   ]
  },
  {
   "cell_type": "code",
   "execution_count": 115,
   "metadata": {},
   "outputs": [
    {
     "data": {
      "text/plain": [
       "'COLUMN_CLUSTERED (51)'"
      ]
     },
     "execution_count": 115,
     "metadata": {},
     "output_type": "execute_result"
    }
   ],
   "source": [
    "'%s' % chart1.chart_type"
   ]
  },
  {
   "cell_type": "code",
   "execution_count": 113,
   "metadata": {},
   "outputs": [
    {
     "name": "stdout",
     "output_type": "stream",
     "text": [
      "COLUMN_CLUSTERED (51)\n",
      "COLUMN_CLUSTERED (51)\n"
     ]
    }
   ],
   "source": [
    "# print(\"Chart of type %s found\"\n",
    "print('%s' % (chart1.chart_type))\n",
    "\n",
    "# asssign the output to a variable for use later\n",
    "testing = '%s' % (chart1.chart_type)\n",
    "print(testing)"
   ]
  },
  {
   "cell_type": "markdown",
   "metadata": {},
   "source": [
    "#### get category list"
   ]
  },
  {
   "cell_type": "code",
   "execution_count": 11,
   "metadata": {},
   "outputs": [
    {
     "data": {
      "text/plain": [
       "['East', 'West', 'Midwest']"
      ]
     },
     "execution_count": 11,
     "metadata": {},
     "output_type": "execute_result"
    }
   ],
   "source": [
    "new_list_catagories = list(chart.plots[0].categories)\n",
    "new_list_catagories"
   ]
  },
  {
   "cell_type": "markdown",
   "metadata": {},
   "source": [
    "##### or..."
   ]
  },
  {
   "cell_type": "code",
   "execution_count": 10,
   "metadata": {},
   "outputs": [
    {
     "data": {
      "text/plain": [
       "['FY2021 HC', 'FY2122 HC']"
      ]
     },
     "execution_count": 10,
     "metadata": {},
     "output_type": "execute_result"
    }
   ],
   "source": [
    "category_labels = [c.label for c in plot.categories]\n",
    "category_labels"
   ]
  },
  {
   "cell_type": "markdown",
   "metadata": {},
   "source": [
    "#### Get series names"
   ]
  },
  {
   "cell_type": "code",
   "execution_count": 7,
   "metadata": {},
   "outputs": [
    {
     "data": {
      "text/plain": [
       "'Series 1'"
      ]
     },
     "execution_count": 7,
     "metadata": {},
     "output_type": "execute_result"
    }
   ],
   "source": [
    "chart1.series[0].name"
   ]
  },
  {
   "cell_type": "markdown",
   "metadata": {},
   "source": [
    "#### Get series values"
   ]
  },
  {
   "cell_type": "code",
   "execution_count": 6,
   "metadata": {},
   "outputs": [
    {
     "data": {
      "text/plain": [
       "(19.2, 21.4, 16.7)"
      ]
     },
     "execution_count": 6,
     "metadata": {},
     "output_type": "execute_result"
    }
   ],
   "source": [
    "chart1.series[0].values"
   ]
  },
  {
   "cell_type": "code",
   "execution_count": null,
   "metadata": {},
   "outputs": [],
   "source": [
    "# prs = Presentation(presentation_path)\n",
    "graphic_frame = prs.slides[0].shapes\n",
    "chart = graphic_frame[0].chart \n",
    "plot = chart.plots[0]\n",
    "category_labels = [c.label for c in plot.categories] \n",
    "series = plot.series[0]  \n",
    "md = {} for i in range(0,len(plot.series)):    \n",
    " md[plot.series[i].name] = list(plot.series[i].values)  \n",
    " chart_data = CategoryChartData() \n",
    " chart_data.categories = [c.label for c in plot.categories]  \n",
    " for key, value in md.items():     chart_data.add_series(key, [10*v for v in value])  \n",
    " chart.replace_data(chart_data) "
   ]
  },
  {
   "cell_type": "code",
   "execution_count": 40,
   "metadata": {},
   "outputs": [
    {
     "data": {
      "text/plain": [
       "<pptx.shapes.shapetree.SlideShapes at 0x106bfbb20>"
      ]
     },
     "execution_count": 40,
     "metadata": {},
     "output_type": "execute_result"
    }
   ],
   "source": [
    "graphic_frame = prs.slides[0].shapes\n",
    "graphic_frame"
   ]
  },
  {
   "cell_type": "code",
   "execution_count": 41,
   "metadata": {},
   "outputs": [
    {
     "ename": "AttributeError",
     "evalue": "'SlidePlaceholder' object has no attribute 'chart'",
     "output_type": "error",
     "traceback": [
      "\u001b[0;31m---------------------------------------------------------------------------\u001b[0m",
      "\u001b[0;31mAttributeError\u001b[0m                            Traceback (most recent call last)",
      "Cell \u001b[0;32mIn[41], line 1\u001b[0m\n\u001b[0;32m----> 1\u001b[0m chart \u001b[38;5;241m=\u001b[39m \u001b[43mgraphic_frame\u001b[49m\u001b[43m[\u001b[49m\u001b[38;5;241;43m0\u001b[39;49m\u001b[43m]\u001b[49m\u001b[38;5;241;43m.\u001b[39;49m\u001b[43mchart\u001b[49m \n\u001b[1;32m      2\u001b[0m chart\n",
      "\u001b[0;31mAttributeError\u001b[0m: 'SlidePlaceholder' object has no attribute 'chart'"
     ]
    }
   ],
   "source": [
    "chart = graphic_frame[0].chart \n",
    "chart"
   ]
  },
  {
   "cell_type": "markdown",
   "metadata": {},
   "source": [
    "#### Sample code to update existing chart"
   ]
  },
  {
   "cell_type": "code",
   "execution_count": 1,
   "metadata": {},
   "outputs": [],
   "source": [
    "# Create a new pptx with a single slide and an embedded Excel chart\n",
    "\n",
    "from pptx import Presentation\n",
    "from pptx.chart.data import CategoryChartData\n",
    "from pptx.enum.chart import XL_CHART_TYPE,XL_LABEL_POSITION\n",
    "from pptx.util import Inches, Pt\n",
    "from pptx.dml.color import RGBColor\n",
    "\n",
    "# create presentation with 1 slide ------\n",
    "prs = Presentation()\n",
    "slide = prs.slides.add_slide(prs.slide_layouts[5])\n",
    "\n",
    "# define chart data ---------------------\n",
    "chart_data = CategoryChartData()\n",
    "chart_data.categories = ['FY2021 HC', 'FY2122 HC']\n",
    "chart_data.add_series('blue', (34.5, 31.5))\n",
    "chart_data.add_series('orange', (74.1, 77.8))\n",
    "chart_data.add_series('grey', (56.3, 57.3))\n",
    "\n",
    "# add chart to slide --------------------\n",
    "x, y, cx, cy = Inches(2), Inches(2), Inches(6), Inches(4.5)\n",
    "gframe = slide.shapes.add_chart(\n",
    "    XL_CHART_TYPE.COLUMN_STACKED, x, y, cx, cy, chart_data\n",
    ")\n",
    "chart = gframe.chart\n",
    "plot = chart.plots[0]\n",
    "plot.has_data_labels = True\n",
    "data_labels = plot.data_labels\n",
    "data_labels.font.size = Pt(13)\n",
    "data_labels.font.color.rgb = RGBColor(0x0A, 0x42, 0x80)\n",
    "data_labels.position = XL_LABEL_POSITION.INSIDE_END\n",
    "\n",
    "prs.save('chart-10.pptx')\n"
   ]
  },
  {
   "cell_type": "code",
   "execution_count": 2,
   "metadata": {},
   "outputs": [
    {
     "name": "stdout",
     "output_type": "stream",
     "text": [
      "Chart of type COLUMN_STACKED (52) found in slide[0, id=256] shape[1, id=3, type=CHART (3)]\n"
     ]
    }
   ],
   "source": [
    "# Update the chart with new data\n",
    "\n",
    "from pptx import Presentation\n",
    "from pptx.chart.data import CategoryChartData\n",
    "from pptx.shapes.graphfrm import GraphicFrame\n",
    "from pptx.enum.chart import XL_CHART_TYPE\n",
    "from pptx.util import Inches\n",
    "\n",
    "# read presentation from file\n",
    "prs = Presentation('chart-10.pptx')\n",
    "\n",
    "# find the first chart object in the presentation\n",
    "slideIdx = 0\n",
    "for slide in prs.slides:\n",
    "    for shape in slide.shapes:\n",
    "        if shape.has_chart:\n",
    "            chart = shape.chart\n",
    "            print(\"Chart of type %s found in slide[%s, id=%s] shape[%s, id=%s, type=%s]\"\n",
    "                    % (chart.chart_type, slideIdx, slide.slide_id,\n",
    "                       slide.shapes.index(shape), shape.shape_id, shape.shape_type ))\n",
    "            break\n",
    "    slideIdx += 1\n",
    "\n",
    "# create list with changed category names\n",
    "categorie_map = { 'FY2021 HC': 'FY1918 HC', 'FY2122 HC': 'FY1718 HC' }\n",
    "new_categories = list(categorie_map[c] for c in chart.plots[0].categories)\n",
    "\n",
    "# build new chart data with new category names and old data values\n",
    "new_chart_data = CategoryChartData()\n",
    "new_chart_data.categories = new_categories\n",
    "for series in chart.series:\n",
    "    new_chart_data.add_series(series.name,series.values)\n",
    "\n",
    "# write the new chart data to the chart\n",
    "chart.replace_data(new_chart_data)\n",
    "\n",
    "# save everything in a new file\n",
    "prs.save('chart-20.pptx')"
   ]
  },
  {
   "cell_type": "code",
   "execution_count": 4,
   "metadata": {},
   "outputs": [
    {
     "name": "stdout",
     "output_type": "stream",
     "text": [
      "Chart of type COLUMN_CLUSTERED (51) found in slide[0, id=256] shape[1, id=3, type=CHART (3)]\n"
     ]
    }
   ],
   "source": [
    "from pptx import Presentation\n",
    "from pptx.chart.data import CategoryChartData\n",
    "from pptx.shapes.graphfrm import GraphicFrame\n",
    "from pptx.enum.chart import XL_CHART_TYPE\n",
    "from pptx.util import Inches\n",
    "\n",
    "# read presentation from file\n",
    "prs = Presentation('chart-01.pptx')\n",
    "\n",
    "# find the first chart object in the presentation\n",
    "slideIdx = 0\n",
    "for slide in prs.slides:\n",
    "    for shape in slide.shapes:\n",
    "        if shape.has_chart:\n",
    "            chart = shape.chart\n",
    "            print(\"Chart of type %s found in slide[%s, id=%s] shape[%s, id=%s, type=%s]\"\n",
    "                    % (chart.chart_type, slideIdx, slide.slide_id,\n",
    "                       slide.shapes.index(shape), shape.shape_id, shape.shape_type ))\n",
    "            break\n",
    "    slideIdx += 1"
   ]
  },
  {
   "cell_type": "code",
   "execution_count": 7,
   "metadata": {},
   "outputs": [
    {
     "data": {
      "text/plain": [
       "['East', 'West', 'Midwest']"
      ]
     },
     "execution_count": 7,
     "metadata": {},
     "output_type": "execute_result"
    }
   ],
   "source": [
    "new_list_catagories = list(chart.plots[0].categories)\n",
    "new_list_catagories"
   ]
  }
 ],
 "metadata": {
  "kernelspec": {
   "display_name": "Python 3",
   "language": "python",
   "name": "python3"
  },
  "language_info": {
   "codemirror_mode": {
    "name": "ipython",
    "version": 3
   },
   "file_extension": ".py",
   "mimetype": "text/x-python",
   "name": "python",
   "nbconvert_exporter": "python",
   "pygments_lexer": "ipython3",
   "version": "3.9.6"
  }
 },
 "nbformat": 4,
 "nbformat_minor": 2
}
